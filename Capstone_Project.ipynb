{
 "cells": [
  {
   "cell_type": "code",
   "execution_count": null,
   "id": "187dc36d",
   "metadata": {},
   "outputs": [],
   "source": [
    "import numpy as np\n",
    "import pandas as pd\n",
    "import statsmodels.api as sm\n",
    "import matplotlib.pyplot as plt\n",
    "from math import sqrt\n",
    "from sklearn.metrics import mean_squared_error\n",
    "from statsmodels.tsa.stattools import adfuller\n",
    "from pandas.tseries.offsets import DateOffset\n",
    "%matplotlib inline\n",
    "import os\n",
    "\n",
    "from statsmodels.tsa.seasonal import seasonal_decompose\n",
    "import warnings\n",
    "warnings.filterwarnings(\"ignore\")"
   ]
  },
  {
   "cell_type": "code",
   "execution_count": null,
   "id": "288d3a92",
   "metadata": {},
   "outputs": [],
   "source": [
    "os.chdir(\"F:\\\\Data analysis\\\\Imarticus data\\\\Capstone project\")\n",
    "data_og=pd.read_excel(\"Sales_Forecast_Data.xlsx\",parse_dates = True,squeeze= True)\n",
    "rainfall_og=pd.read_excel(\"StateWise Rainfall.xlsx\")\n",
    "gdp_og=pd.read_excel(\"StateWise GDP.xlsx\")"
   ]
  },
  {
   "cell_type": "code",
   "execution_count": null,
   "id": "b8df3ae8",
   "metadata": {},
   "outputs": [],
   "source": [
    "data=data_og.copy()\n",
    "rainfall=rainfall_og.copy()\n",
    "gdp=gdp_og.copy()"
   ]
  },
  {
   "cell_type": "code",
   "execution_count": null,
   "id": "c8a4ab60",
   "metadata": {},
   "outputs": [],
   "source": [
    "data.isna().sum()"
   ]
  },
  {
   "cell_type": "markdown",
   "id": "de17dfa8",
   "metadata": {},
   "source": [
    "## Create new column with date format"
   ]
  },
  {
   "cell_type": "code",
   "execution_count": null,
   "id": "9095827e",
   "metadata": {},
   "outputs": [],
   "source": [
    "first_mon=['Apr','May','Jun','Jul','Aug','Sep','Oct','Nov','Dec']\n",
    "data_abc1 = data[data[\"MONTH\"].isin(first_mon)]\n",
    "\n",
    "data_abc1['Year-Month']= data_abc1['MONTH'] + data_abc1['FIN_YEAR'].str[:4]\n",
    "\n",
    "sec_mon=['Jan','Feb','Mar']\n",
    "data_abc2 = data[data[\"MONTH\"].isin(sec_mon)]\n",
    "\n",
    "data_abc2['Year-Month']= data_abc2['MONTH'] + data_abc2['FIN_YEAR'].str[5:]\n",
    "\n",
    "data_abc = pd.concat([data_abc1, data_abc2])\n",
    "\n",
    "data_abc['date']= pd.to_datetime(data_abc['Year-Month'],infer_datetime_format=True)\n",
    "\n",
    "data_abc.head()"
   ]
  },
  {
   "cell_type": "markdown",
   "id": "f033a027",
   "metadata": {},
   "source": [
    "Importing rainfall and gdp data in sales data"
   ]
  },
  {
   "cell_type": "markdown",
   "id": "7e54b854",
   "metadata": {},
   "source": [
    "## Removing blank spaces from COMPANY Column"
   ]
  },
  {
   "cell_type": "code",
   "execution_count": null,
   "id": "b98bc26d",
   "metadata": {},
   "outputs": [],
   "source": [
    "data_abc['COMPANY'] = data_abc['COMPANY'].str.replace(' ','')"
   ]
  },
  {
   "cell_type": "code",
   "execution_count": null,
   "id": "816913f9",
   "metadata": {},
   "outputs": [],
   "source": [
    "df = data_abc.drop(['FIN_YEAR','MONTH','Year-Month','DISTRICT'],axis=1)\n",
    "df.set_index('date',inplace=True)"
   ]
  },
  {
   "cell_type": "markdown",
   "id": "b3f8a07b",
   "metadata": {},
   "source": [
    "# Ploting graph for companies having max sales (TOP 5)"
   ]
  },
  {
   "cell_type": "code",
   "execution_count": null,
   "id": "f65d99aa",
   "metadata": {},
   "outputs": [],
   "source": [
    "df.head()"
   ]
  },
  {
   "cell_type": "code",
   "execution_count": null,
   "id": "65c2d4be",
   "metadata": {},
   "outputs": [],
   "source": [
    "company_sales_order = df.groupby(['COMPANY'])['VALUE'].sum()"
   ]
  },
  {
   "cell_type": "code",
   "execution_count": null,
   "id": "1c8d63b5",
   "metadata": {},
   "outputs": [],
   "source": [
    "company_sales_order.sort_values(ascending=False).head()"
   ]
  },
  {
   "cell_type": "code",
   "execution_count": null,
   "id": "5b5c7c16",
   "metadata": {},
   "outputs": [],
   "source": [
    "top_com = company_sales_order.sort_values(ascending=False).head()"
   ]
  },
  {
   "cell_type": "code",
   "execution_count": null,
   "id": "61468117",
   "metadata": {},
   "outputs": [],
   "source": [
    "for a in top_com.index:\n",
    "    df_comp = df[df['COMPANY']==a]\n",
    "    df_comp = df_comp.groupby('date')['VALUE'].sum()\n",
    "    df_comp.plot(legend=True,label=a,figsize=(18,8))"
   ]
  },
  {
   "cell_type": "markdown",
   "id": "a684568b",
   "metadata": {},
   "source": [
    "# ABC Manufacturing Sales across given states"
   ]
  },
  {
   "cell_type": "code",
   "execution_count": null,
   "id": "62992a0d",
   "metadata": {},
   "outputs": [],
   "source": [
    "df_abc = df[df['COMPANY']=='ABCManufacturing']"
   ]
  },
  {
   "cell_type": "code",
   "execution_count": null,
   "id": "0418957e",
   "metadata": {},
   "outputs": [],
   "source": [
    "state = list(df_abc['STATE'].unique())"
   ]
  },
  {
   "cell_type": "code",
   "execution_count": null,
   "id": "64e0413d",
   "metadata": {},
   "outputs": [],
   "source": [
    "for i in state:\n",
    "    df_hr = df_abc[df_abc['STATE']==i]\n",
    "    df_hr = df_hr.groupby('date')['VALUE'].sum()\n",
    "    df_hr.plot(legend=True,label=i,figsize=(18,8))"
   ]
  },
  {
   "cell_type": "markdown",
   "id": "c2103a8d",
   "metadata": {},
   "source": [
    "## Rainfall GDP Crrelation with sales of fertilizers"
   ]
  },
  {
   "cell_type": "code",
   "execution_count": null,
   "id": "daea3d69",
   "metadata": {},
   "outputs": [],
   "source": [
    "gdp['date']=pd.to_datetime(gdp['Year-Month'],infer_datetime_format=True)"
   ]
  },
  {
   "cell_type": "code",
   "execution_count": null,
   "id": "6cce5bf3",
   "metadata": {},
   "outputs": [],
   "source": [
    "rainfall['date']=pd.to_datetime(rainfall['Year-Month'],infer_datetime_format=True)"
   ]
  },
  {
   "cell_type": "code",
   "execution_count": null,
   "id": "04ce0f74",
   "metadata": {},
   "outputs": [],
   "source": [
    "rainfall.head()"
   ]
  },
  {
   "cell_type": "code",
   "execution_count": null,
   "id": "958f7452",
   "metadata": {},
   "outputs": [],
   "source": [
    "gdp.head()"
   ]
  },
  {
   "cell_type": "code",
   "execution_count": null,
   "id": "d7e29762",
   "metadata": {},
   "outputs": [],
   "source": [
    "rain_gdp = pd.merge(gdp,rainfall,how='inner',on=['date','STATE','Year-Month'])"
   ]
  },
  {
   "cell_type": "code",
   "execution_count": null,
   "id": "1f6b257b",
   "metadata": {},
   "outputs": [],
   "source": [
    "rain_gdp.head()"
   ]
  },
  {
   "cell_type": "code",
   "execution_count": null,
   "id": "2507d4c2",
   "metadata": {},
   "outputs": [],
   "source": [
    "data_abc.head()"
   ]
  },
  {
   "cell_type": "code",
   "execution_count": null,
   "id": "18fa4875",
   "metadata": {},
   "outputs": [],
   "source": [
    "data_abc_corr= pd.merge(data_abc,rain_gdp,how='inner',on=['date','STATE','Year-Month'])"
   ]
  },
  {
   "cell_type": "code",
   "execution_count": null,
   "id": "ab41a119",
   "metadata": {},
   "outputs": [],
   "source": [
    "data_abc_corr.drop(['FIN_YEAR','MONTH','FG','DISTRICT','Year-Month'],axis=1,inplace=True)"
   ]
  },
  {
   "cell_type": "code",
   "execution_count": null,
   "id": "33e76102",
   "metadata": {},
   "outputs": [],
   "source": [
    "data_abc_corr.head()"
   ]
  },
  {
   "cell_type": "code",
   "execution_count": null,
   "id": "f109e0bd",
   "metadata": {},
   "outputs": [],
   "source": [
    "data_abc_corr.corr()"
   ]
  },
  {
   "cell_type": "code",
   "execution_count": null,
   "id": "96268d14",
   "metadata": {},
   "outputs": [],
   "source": []
  },
  {
   "cell_type": "markdown",
   "id": "bbb4f690",
   "metadata": {},
   "source": [
    "# ABC Manufacturing company time series decomposition"
   ]
  },
  {
   "cell_type": "code",
   "execution_count": null,
   "id": "25b4aed0",
   "metadata": {},
   "outputs": [],
   "source": [
    "data_abc_sales = data_abc.groupby(['date'])['VALUE'].sum()"
   ]
  },
  {
   "cell_type": "code",
   "execution_count": null,
   "id": "e8aa6a49",
   "metadata": {},
   "outputs": [],
   "source": [
    "data_abc_decompose = sm.tsa.seasonal_decompose(data_abc_sales,model='additive', period=12)"
   ]
  },
  {
   "cell_type": "code",
   "execution_count": null,
   "id": "2ab23f3a",
   "metadata": {},
   "outputs": [],
   "source": [
    "fig = data_abc_decompose.plot()\n",
    "fig.set_size_inches((16, 8))\n",
    "# Tight layout to realign things\n",
    "fig.tight_layout()\n",
    "plt.show()"
   ]
  },
  {
   "cell_type": "markdown",
   "id": "1c939a10",
   "metadata": {},
   "source": [
    "# Creating adfuller test function for checking the series stationarity"
   ]
  },
  {
   "cell_type": "code",
   "execution_count": null,
   "id": "650d6464",
   "metadata": {},
   "outputs": [],
   "source": [
    "def adfuller_test(state_name):\n",
    "    df_1 = df_abc[df_abc['STATE']==state_name]\n",
    "    df_1 = df_1.groupby(['date'])['VALUE'].sum()\n",
    "    if adfuller(df_1)[1] <0.05:\n",
    "        print(\"The p-value for \",state_name,\" time series is\",adfuller(df_1)[1],\"(<0.05).Hence the series is stationary\")\n",
    "    else:\n",
    "        print(\"The p-value for \",state_name,\" time series is\",adfuller(df_1)[1],\"(<0.05).Hence the series is NOT stationary\")"
   ]
  },
  {
   "cell_type": "code",
   "execution_count": null,
   "id": "3aee7268",
   "metadata": {},
   "outputs": [],
   "source": [
    "for i in state:\n",
    "    adfuller_test(i)"
   ]
  },
  {
   "cell_type": "markdown",
   "id": "dfed3e54",
   "metadata": {},
   "source": [
    "# Creating function for predicting "
   ]
  },
  {
   "cell_type": "code",
   "execution_count": null,
   "id": "7e4bcce9",
   "metadata": {},
   "outputs": [],
   "source": [
    "def SARIMA_MODEL(state_name, prediction_num):\n",
    "    data = df_abc[df_abc['STATE']==state_name]\n",
    "    data = data.groupby(['date'])['VALUE'].sum()\n",
    "    data = data.to_frame()\n",
    "    data.columns=['Sales']\n",
    " \n",
    "    if adfuller(data)[1] <0.05:\n",
    "        print(\"The p-value for \",state_name,\" time series is\",adfuller(data)[1],\"(<0.05).Hence the series is stationary\")\n",
    "        data_stat = data.copy()\n",
    "    else:\n",
    "        print(\"The p-value for \",state_name,\" time series is\",adfuller(data)[1],\"(<0.05).Hence the series is NOT stationary\")\n",
    "        for i in range(0,12):\n",
    "            data['First Difference']=data['Sales']-data['Sales'].shift(i)\n",
    "        \n",
    "            if adfuller(data['First Difference'].dropna())[1] < 0.05:\n",
    "                print(\"Using differencing method with differenceing order \",i,\" our data got stationary with p-value of\",adfuller(data['First Difference'].dropna())[1])\n",
    "            \n",
    "                data_stat = data['First Difference'].dropna()\n",
    "                data_stat.columns = ['Sales']\n",
    "            \n",
    "                data.drop(['First Difference'],axis=1,inplace=True)\n",
    "                data.columns = ['Sales']\n",
    "                break\n",
    "    \n",
    "    train = data_stat[:round(0.75*(len(data_stat)))]\n",
    "    test = data_stat[round(0.75*(len(data_stat))):]\n",
    "    \n",
    "    import itertools\n",
    "    p=range(0,8) #for AR\n",
    "    q=range(0,8) #for MA\n",
    "    d=range(0,2) \n",
    "\n",
    "    pdq_combination=list(itertools.product(p,d,q))\n",
    "\n",
    "    rmse=[]\n",
    "    mape=[]\n",
    "    order1=[]\n",
    "    \n",
    "    for pdq in pdq_combination:\n",
    "        try:\n",
    "            model=sm.tsa.statespace.SARIMAX(train,order=pdq).fit()\n",
    "            pred=model.predict(start=len(train),end=(len(data_stat)-1))\n",
    "            error_rmse=np.sqrt(mean_squared_error(test,pred))\n",
    "        \n",
    "            order1.append(pdq)\n",
    "            rmse.append(error_rmse)\n",
    "\n",
    "        except:\n",
    "            continue\n",
    "            \n",
    "    list(zip(rmse,mape))\n",
    "    \n",
    "    results=pd.DataFrame(index=order1,data=rmse,columns=['RMSE'])\n",
    "    results.sort_values(by='RMSE',inplace=True)\n",
    "    print(\"p,d,q values are\",results.index[0],\" with corresponding least RSME value of\",results.RMSE[0])\n",
    "    \n",
    "    d=list(results.index[0])\n",
    "    d.append(12)\n",
    "    \n",
    "    model_SAR=sm.tsa.statespace.SARIMAX(data ,order=results.index[0],seasonal_order=d)\n",
    "    results=model_SAR.fit()\n",
    "    \n",
    "    pred=results.predict(start=len(train),end=(len(data)-1))\n",
    "    \n",
    "    pred_plot = results.predict(start=len(data)-1,end=(len(data)-1+prediction_num))\n",
    "    \n",
    "    data.plot(legend=True,label='Train',figsize=(15,8))\n",
    "\n",
    "    pred_plot.plot(legend=True,label='Prediction',title=\"Prediction plot\")\n",
    "    \n",
    "    \n"
   ]
  },
  {
   "cell_type": "code",
   "execution_count": null,
   "id": "cc1ab3b4",
   "metadata": {},
   "outputs": [],
   "source": [
    "SARIMA_MODEL(\"Uttarakhand\",12)"
   ]
  },
  {
   "cell_type": "code",
   "execution_count": null,
   "id": "649da652",
   "metadata": {},
   "outputs": [],
   "source": [
    "SARIMA_MODEL(\"Haryana\",12)"
   ]
  },
  {
   "cell_type": "code",
   "execution_count": null,
   "id": "ecab6dfa",
   "metadata": {},
   "outputs": [],
   "source": [
    "SARIMA_MODEL(\"Uttar Pradesh\",12)"
   ]
  },
  {
   "cell_type": "code",
   "execution_count": null,
   "id": "023fb0c6",
   "metadata": {},
   "outputs": [],
   "source": [
    "SARIMA_MODEL(\"Himachal Pradesh\",12)"
   ]
  },
  {
   "cell_type": "code",
   "execution_count": null,
   "id": "b1704080",
   "metadata": {},
   "outputs": [],
   "source": [
    "SARIMA_MODEL(\"Punjab\",12)"
   ]
  },
  {
   "cell_type": "code",
   "execution_count": null,
   "id": "387f96fd",
   "metadata": {},
   "outputs": [],
   "source": []
  }
 ],
 "metadata": {
  "kernelspec": {
   "display_name": "Python 3 (ipykernel)",
   "language": "python",
   "name": "python3"
  },
  "language_info": {
   "codemirror_mode": {
    "name": "ipython",
    "version": 3
   },
   "file_extension": ".py",
   "mimetype": "text/x-python",
   "name": "python",
   "nbconvert_exporter": "python",
   "pygments_lexer": "ipython3",
   "version": "3.9.12"
  }
 },
 "nbformat": 4,
 "nbformat_minor": 5
}
